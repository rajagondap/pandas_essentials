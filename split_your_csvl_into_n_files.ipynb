{
 "cells": [
  {
   "cell_type": "markdown",
   "metadata": {},
   "source": [
    "# <h1> Split file into multiple chunks with n rows(CSV) </h1>\n",
    "\n",
    "***\n",
    "<ul><li>Upload your file</li></ul>\n",
    "<ul><li>Enter number of rows you want per chunk and hit enter</li></ul>\n",
    "<ul><li>Find Files for download</li></ul>\n",
    "\n",
    "***"
   ]
  },
  {
   "cell_type": "code",
   "execution_count": 5,
   "metadata": {},
   "outputs": [],
   "source": [
    "# import the required libraries\n",
    "import os\n",
    "import pandas as pd\n",
    "from tqdm import tqdm"
   ]
  },
  {
   "cell_type": "code",
   "execution_count": 6,
   "metadata": {},
   "outputs": [
    {
     "name": "stdout",
     "output_type": "stream",
     "text": [
      "Enter number of rows per file: (e.x. 10000) and hit enter 100000\n"
     ]
    },
    {
     "name": "stderr",
     "output_type": "stream",
     "text": [
      "100%|██████████████████████████████████████████████████████████████████████████████████| 11/11 [02:06<00:00, 11.46s/it]"
     ]
    },
    {
     "name": "stdout",
     "output_type": "stream",
     "text": [
      "\n",
      "\n",
      "Success! 11 files with each 100000 rows have been created in the directory Z:\\Python_sample_projects\\pandas_essentials\n"
     ]
    },
    {
     "name": "stderr",
     "output_type": "stream",
     "text": [
      "\n"
     ]
    }
   ],
   "source": [
    "df = pd.read_csv('twitter_sentiment1.csv')\n",
    "total = len(df)\n",
    "\n",
    "rows = input(\"Enter number of rows per file: (e.x. 10000) and hit enter \")\n",
    "counter = 0\n",
    "\n",
    "for i in tqdm(range(0,total,int(rows))):\n",
    "  j = i + int(rows)\n",
    "  if j < total:\n",
    "    df.iloc[i:j].to_excel(f\"chunk_{i}_{j}.xlsx\", encoding=\"utf-16\", index=False)\n",
    "    counter += 1\n",
    "\n",
    "  else:\n",
    "    df.iloc[i:total].to_excel(f\"chunk_{i}_{total}.xlsx\", encoding=\"utf-16\", index=False)\n",
    "    counter += 1\n",
    "\n",
    "print()\n",
    "print(f\"\\nSuccess! {counter} files with each {int(rows)} rows have been created in the directory {os.getcwd()}\")"
   ]
  }
 ],
 "metadata": {
  "kernelspec": {
   "display_name": "Python 3",
   "language": "python",
   "name": "python3"
  },
  "language_info": {
   "codemirror_mode": {
    "name": "ipython",
    "version": 3
   },
   "file_extension": ".py",
   "mimetype": "text/x-python",
   "name": "python",
   "nbconvert_exporter": "python",
   "pygments_lexer": "ipython3",
   "version": "3.8.5"
  }
 },
 "nbformat": 4,
 "nbformat_minor": 4
}
